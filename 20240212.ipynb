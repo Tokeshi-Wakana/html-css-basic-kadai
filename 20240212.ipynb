{
  "nbformat": 4,
  "nbformat_minor": 0,
  "metadata": {
    "colab": {
      "provenance": [],
      "authorship_tag": "ABX9TyPK7/T2SW0GVjx/xpV8HAO6",
      "include_colab_link": true
    },
    "kernelspec": {
      "name": "python3",
      "display_name": "Python 3"
    },
    "language_info": {
      "name": "python"
    }
  },
  "cells": [
    {
      "cell_type": "markdown",
      "metadata": {
        "id": "view-in-github",
        "colab_type": "text"
      },
      "source": [
        "<a href=\"https://colab.research.google.com/github/Tokeshi-Wakana/html-css-basic-kadai/blob/main/20240212.ipynb\" target=\"_parent\"><img src=\"https://colab.research.google.com/assets/colab-badge.svg\" alt=\"Open In Colab\"/></a>"
      ]
    },
    {
      "cell_type": "code",
      "source": [
        "age = 22 # 年齢\n",
        "\n",
        "if age < 20 :\n",
        "  # 未成年の場合\n",
        "  print(\"ジュースで乾杯\")\n",
        "else:\n",
        "    # 成年の場合\n",
        "    print(\"お酒で乾杯\")\n"
      ],
      "metadata": {
        "colab": {
          "base_uri": "https://localhost:8080/"
        },
        "id": "YFR2m5KNchXG",
        "outputId": "f7a878b2-45da-49dc-e0a3-440243dc81ea"
      },
      "execution_count": null,
      "outputs": [
        {
          "output_type": "stream",
          "name": "stdout",
          "text": [
            "お酒で乾杯\n"
          ]
        }
      ]
    },
    {
      "cell_type": "code",
      "source": [
        "print(45 + 18)\n",
        "print(6 * 7)\n",
        "print(type(30 / 3))\n",
        "print(45 * 0.8)\n",
        "print(\"今日の天気は\" + \"晴れ\")\n",
        "print(\"降水確立\" + str(50) + \"%\")\n",
        "print(\"はれ\" * 5)"
      ],
      "metadata": {
        "colab": {
          "base_uri": "https://localhost:8080/"
        },
        "id": "3_xoJpj5IHXn",
        "outputId": "adad3079-d26d-44c7-d2d4-92e94a14711f"
      },
      "execution_count": null,
      "outputs": [
        {
          "output_type": "stream",
          "name": "stdout",
          "text": [
            "63\n",
            "42\n",
            "<class 'float'>\n",
            "36.0\n",
            "今日の天気は晴れ\n",
            "降水確立50%\n",
            "はれはれはれはれはれ\n"
          ]
        }
      ]
    },
    {
      "cell_type": "code",
      "source": [
        "user_name = \"侍太郎\"\n",
        "print(user_name)\n",
        "\n",
        "user_name = \"侍花子\"\n",
        "print(user_name)"
      ],
      "metadata": {
        "colab": {
          "base_uri": "https://localhost:8080/"
        },
        "id": "o9DPCv3zLd1X",
        "outputId": "f3ef1399-cef1-4c7e-f93b-a2e1c3ba5afa"
      },
      "execution_count": null,
      "outputs": [
        {
          "output_type": "stream",
          "name": "stdout",
          "text": [
            "侍太郎\n",
            "侍花子\n"
          ]
        }
      ]
    },
    {
      "cell_type": "code",
      "source": [
        "#整数と浮動小数点型の足し算\n",
        "number1 = 5\n",
        "number7 = 2.5\n",
        "print(number1 + number7)\n",
        "\n",
        "last_name = \"侍\"\n",
        "first_name = \"太郎\"\n",
        "print(last_name + first_name)\n",
        "\n",
        "last_name = \"侍\"\n",
        "fisrt_name = \"太郎\"\n",
        "sister_name = \"花子\"\n",
        "\n",
        "print(f\"私の名前{last_name}{fisrt_name}です。私の妹の名前は{sister_name}です。\")\n",
        "\n",
        "名前 = \"侍\"\n",
        "print(名前)"
      ],
      "metadata": {
        "colab": {
          "base_uri": "https://localhost:8080/"
        },
        "id": "KAopynhPMpQG",
        "outputId": "76553349-eacb-4cf5-c84e-ad5953ad6a6d"
      },
      "execution_count": null,
      "outputs": [
        {
          "output_type": "stream",
          "name": "stdout",
          "text": [
            "7.5\n",
            "侍太郎\n",
            "私の名前侍太郎です。私の妹の名前は花子です。\n",
            "侍\n"
          ]
        }
      ]
    },
    {
      "cell_type": "code",
      "source": [
        "user_name = [\"侍太郎\", \"侍一郎\", \"侍二郎\", \"侍三郎\", \"侍四郎\"]\n",
        "\n",
        "print(user_name[1])\n",
        "\n",
        "user_name.pop(2)\n",
        "print(user_name)"
      ],
      "metadata": {
        "colab": {
          "base_uri": "https://localhost:8080/"
        },
        "id": "K3hs10QZnue8",
        "outputId": "78520e39-0290-4f54-f6bd-b882811f6f96"
      },
      "execution_count": null,
      "outputs": [
        {
          "output_type": "stream",
          "name": "stdout",
          "text": [
            "侍一郎\n",
            "['侍太郎', '侍一郎', '侍三郎', '侍四郎']\n"
          ]
        }
      ]
    },
    {
      "cell_type": "code",
      "source": [
        "import random\n",
        "num = random.randint(0, 4)\n",
        "print(num)\n",
        "if num == 4:\n",
        "  print(\"大当たりです\")"
      ],
      "metadata": {
        "colab": {
          "base_uri": "https://localhost:8080/"
        },
        "id": "kBbGUGlOH94q",
        "outputId": "a8c40f6e-4f6d-4f2a-d3de-56bfff8dfa03"
      },
      "execution_count": null,
      "outputs": [
        {
          "output_type": "stream",
          "name": "stdout",
          "text": [
            "4\n",
            "大当たりです\n"
          ]
        }
      ]
    },
    {
      "cell_type": "code",
      "source": [
        "for i in range(1,11):\n",
        " print(i)"
      ],
      "metadata": {
        "colab": {
          "base_uri": "https://localhost:8080/"
        },
        "id": "UaTxQN_xLVwH",
        "outputId": "4e3537d9-4a22-4c4a-e8d5-dcafb54147aa"
      },
      "execution_count": null,
      "outputs": [
        {
          "output_type": "stream",
          "name": "stdout",
          "text": [
            "1\n",
            "2\n",
            "3\n",
            "4\n",
            "5\n",
            "6\n",
            "7\n",
            "8\n",
            "9\n",
            "10\n"
          ]
        }
      ]
    },
    {
      "cell_type": "code",
      "source": [
        "t = 10\n",
        "b = 20\n",
        "h = 5\n",
        "\n",
        "print(str((t + b)* h /2) + \"㎠\" )"
      ],
      "metadata": {
        "colab": {
          "base_uri": "https://localhost:8080/"
        },
        "id": "MEsA1v0Nj2Gh",
        "outputId": "5785060a-1e7c-413b-d6fb-28931aee4637"
      },
      "execution_count": null,
      "outputs": [
        {
          "output_type": "stream",
          "name": "stdout",
          "text": [
            "75.0㎠\n"
          ]
        }
      ]
    },
    {
      "cell_type": "code",
      "source": [
        "array = [\"月曜日は晴れです\", \"火曜日は雨です\", \"水曜日は晴れです\", \"木曜日は晴れです\", \"金曜日は曇りです\", \"土曜日は曇りのち雨です\", \"日曜日は雷雨です\"]\n",
        "print(array)"
      ],
      "metadata": {
        "colab": {
          "base_uri": "https://localhost:8080/"
        },
        "id": "v4l6ZGtYRf6L",
        "outputId": "7dd0cde2-476f-4401-8b74-a0bb956adbe5"
      },
      "execution_count": 6,
      "outputs": [
        {
          "output_type": "stream",
          "name": "stdout",
          "text": [
            "['月曜日は晴れです', '火曜日は雨です', '水曜日は晴れです', '木曜日は晴れです', '金曜日は曇りです', '土曜日は曇りのち雨です', '日曜日は雷雨です']\n"
          ]
        }
      ]
    }
  ]
}